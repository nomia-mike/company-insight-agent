{
 "cells": [
  {
   "cell_type": "markdown",
   "id": "c9e0c4bc-9676-4d1e-b41f-e966edbdfdc7",
   "metadata": {},
   "source": [
    "\n",
    "### test of the Responses API\n"
   ]
  },
  {
   "cell_type": "code",
   "execution_count": 1,
   "id": "f8997e5c-9bd9-4a17-b93b-894d24a37834",
   "metadata": {},
   "outputs": [
    {
     "ename": "ModuleNotFoundError",
     "evalue": "No module named 'openai'",
     "output_type": "error",
     "traceback": [
      "\u001b[0;31m---------------------------------------------------------------------------\u001b[0m",
      "\u001b[0;31mModuleNotFoundError\u001b[0m                       Traceback (most recent call last)",
      "Cell \u001b[0;32mIn[1], line 2\u001b[0m\n\u001b[1;32m      1\u001b[0m \u001b[38;5;28;01mfrom\u001b[39;00m\u001b[38;5;250m \u001b[39m\u001b[38;5;21;01mdotenv\u001b[39;00m\u001b[38;5;250m \u001b[39m\u001b[38;5;28;01mimport\u001b[39;00m load_dotenv\n\u001b[0;32m----> 2\u001b[0m \u001b[38;5;28;01mfrom\u001b[39;00m\u001b[38;5;250m \u001b[39m\u001b[38;5;21;01mopenai\u001b[39;00m\u001b[38;5;250m \u001b[39m\u001b[38;5;28;01mimport\u001b[39;00m OpenAI\n",
      "\u001b[0;31mModuleNotFoundError\u001b[0m: No module named 'openai'"
     ]
    }
   ],
   "source": [
    "from dotenv import load_dotenv\n",
    "from openai import OpenAI"
   ]
  },
  {
   "cell_type": "code",
   "execution_count": null,
   "id": "563a7f06-a4bf-40aa-820c-1835c899c17c",
   "metadata": {},
   "outputs": [],
   "source": [
    "load_dotenv(override=True)"
   ]
  },
  {
   "cell_type": "code",
   "execution_count": null,
   "id": "ce76c466-ee7c-44b8-a534-631aaf90a003",
   "metadata": {},
   "outputs": [],
   "source": [
    "client = OpenAI()"
   ]
  },
  {
   "cell_type": "code",
   "execution_count": 1,
   "id": "bc453d80-a099-4587-8c8c-1d7e0e1403aa",
   "metadata": {},
   "outputs": [],
   "source": [
    "system_prompt = f\"You are a friendly and helpful Company Research Assistant. \\\n",
    "    You provide prompt and accurate answers to all questions posed by your users. \\\n",
    "    Today you will be working with a user to try to uniquely identify a company. \\\n",
    "    You need to ask appropriate questions to help the user identify the company. \\\n",
    "    Start by asking a for the company's name.\\\n",
    "    Note that the user may not know all of the information you request and that \\\n",
    "    a company name rarely uniquely identifies a company.\\\n",
    "    When you search the Internet for a company, you will often find companies with the same name.\\\n",
    "    You will need to ask additional questions to help the user identify the company.\\\n",
    "    Your goal is to chat to the user and help them to uniquely identify a company.\"\n",
    "\n",
    "\n",
    "\n",
    "def chat(message, history):\n",
    "    messages = [{\"role\": \"system\", \"content\": system_prompt}] + history + [{\"role\": \"user\", \"content\": message}]\n",
    "    response = client.chat.completions.create(model=\"gpt-4o-mini\", messages=messages)\n",
    "    return response.choices[0].message.content"
   ]
  }
 ],
 "metadata": {
  "kernelspec": {
   "display_name": "Python 3",
   "language": "python",
   "name": "python3"
  },
  "language_info": {
   "codemirror_mode": {
    "name": "ipython",
    "version": 3
   },
   "file_extension": ".py",
   "mimetype": "text/x-python",
   "name": "python",
   "nbconvert_exporter": "python",
   "pygments_lexer": "ipython3",
   "version": "3.9.6"
  }
 },
 "nbformat": 4,
 "nbformat_minor": 5
}
