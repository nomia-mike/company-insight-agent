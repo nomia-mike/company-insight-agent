{
 "cells": [
  {
   "cell_type": "markdown",
   "id": "c9e0c4bc-9676-4d1e-b41f-e966edbdfdc7",
   "metadata": {},
   "source": [
    "\n",
    "### test of the Responses API\n"
   ]
  },
  {
   "cell_type": "code",
   "execution_count": 1,
   "id": "f8997e5c-9bd9-4a17-b93b-894d24a37834",
   "metadata": {},
   "outputs": [],
   "source": [
    "import os, sys\n",
    "import json\n",
    "\n",
    "from dotenv import load_dotenv\n",
    "from openai import OpenAI"
   ]
  },
  {
   "cell_type": "code",
   "execution_count": 2,
   "id": "563a7f06-a4bf-40aa-820c-1835c899c17c",
   "metadata": {},
   "outputs": [
    {
     "data": {
      "text/plain": [
       "True"
      ]
     },
     "execution_count": 2,
     "metadata": {},
     "output_type": "execute_result"
    }
   ],
   "source": [
    "load_dotenv(override=True)"
   ]
  },
  {
   "cell_type": "code",
   "execution_count": 3,
   "id": "ce76c466-ee7c-44b8-a534-631aaf90a003",
   "metadata": {},
   "outputs": [],
   "source": [
    "client = OpenAI()"
   ]
  },
  {
   "cell_type": "code",
   "execution_count": 4,
   "id": "bc453d80-a099-4587-8c8c-1d7e0e1403aa",
   "metadata": {},
   "outputs": [
    {
     "data": {
      "text/plain": [
       "\"You are a friendly and helpful Company Research Assistant.     You provide prompt and accurate answers to all questions posed by your users.     Today you will be working with a user to try to uniquely identify a company.     You need to ask appropriate questions to help the user identify the company.     Start by asking a for the company's name.    Note that the user may not know all of the information you request and that     a company name rarely uniquely identifies a company.    When you search the Internet for a company, you will often find companies with the same name.    You will need to ask additional questions to help the user identify the company.    Your goal is to chat to the user and help them to uniquely identify a company.\""
      ]
     },
     "execution_count": 4,
     "metadata": {},
     "output_type": "execute_result"
    }
   ],
   "source": [
    "system_prompt = f\"You are a friendly and helpful Company Research Assistant. \\\n",
    "    You provide prompt and accurate answers to all questions posed by your users. \\\n",
    "    Today you will be working with a user to try to uniquely identify a company. \\\n",
    "    You need to ask appropriate questions to help the user identify the company. \\\n",
    "    Start by asking a for the company's name.\\\n",
    "    Note that the user may not know all of the information you request and that \\\n",
    "    a company name rarely uniquely identifies a company.\\\n",
    "    When you search the Internet for a company, you will often find companies with the same name.\\\n",
    "    You will need to ask additional questions to help the user identify the company.\\\n",
    "    Your goal is to chat to the user and help them to uniquely identify a company.\"\n",
    "\n",
    "system_prompt\n",
    "\n"
   ]
  },
  {
   "cell_type": "code",
   "execution_count": 5,
   "id": "638fc145",
   "metadata": {},
   "outputs": [],
   "source": [
    "\n",
    "response = client.responses.create(\n",
    "    model=\"gpt-4o-mini\",\n",
    "    input=\"nomia\",\n",
    "    instructions=system_prompt,\n",
    "    tools=[{\"type\": \"web_search\"}]\n",
    ")"
   ]
  },
  {
   "cell_type": "code",
   "execution_count": 6,
   "id": "11857318",
   "metadata": {},
   "outputs": [
    {
     "data": {
      "text/plain": [
       "openai.types.responses.response.Response"
      ]
     },
     "execution_count": 6,
     "metadata": {},
     "output_type": "execute_result"
    }
   ],
   "source": [
    "type(response)"
   ]
  },
  {
   "cell_type": "code",
   "execution_count": 7,
   "id": "6f477720",
   "metadata": {},
   "outputs": [
    {
     "name": "stdout",
     "output_type": "stream",
     "text": [
      "{\n",
      "  \"id\": \"resp_68b702e7c51c8197af4b9f792ef5936c04e034ddb476fd37\",\n",
      "  \"created_at\": 1756824296.0,\n",
      "  \"error\": null,\n",
      "  \"incomplete_details\": null,\n",
      "  \"instructions\": \"You are a friendly and helpful Company Research Assistant.     You provide prompt and accurate answers to all questions posed by your users.     Today you will be working with a user to try to uniquely identify a company.     You need to ask appropriate questions to help the user identify the company.     Start by asking a for the company's name.    Note that the user may not know all of the information you request and that     a company name rarely uniquely identifies a company.    When you search the Internet for a company, you will often find companies with the same name.    You will need to ask additional questions to help the user identify the company.    Your goal is to chat to the user and help them to uniquely identify a company.\",\n",
      "  \"metadata\": {},\n",
      "  \"model\": \"gpt-4o-mini-2024-07-18\",\n",
      "  \"object\": \"response\",\n",
      "  \"output\": [\n",
      "    {\n",
      "      \"id\": \"msg_68b702eb95388197a9140fd822d4e32c04e034ddb476fd37\",\n",
      "      \"content\": [\n",
      "        {\n",
      "          \"annotations\": [],\n",
      "          \"text\": \"Could you provide a bit more context about \\\"Nomia\\\"? For example, what industry are they in, or what products or services do they offer? Any additional information would help narrow it down!\",\n",
      "          \"type\": \"output_text\",\n",
      "          \"logprobs\": []\n",
      "        }\n",
      "      ],\n",
      "      \"role\": \"assistant\",\n",
      "      \"status\": \"completed\",\n",
      "      \"type\": \"message\"\n",
      "    }\n",
      "  ],\n",
      "  \"parallel_tool_calls\": true,\n",
      "  \"temperature\": 1.0,\n",
      "  \"tool_choice\": \"auto\",\n",
      "  \"tools\": [\n",
      "    {\n",
      "      \"type\": \"web_search\",\n",
      "      \"filters\": null,\n",
      "      \"search_context_size\": \"medium\",\n",
      "      \"user_location\": {\n",
      "        \"city\": null,\n",
      "        \"country\": \"US\",\n",
      "        \"region\": null,\n",
      "        \"timezone\": null,\n",
      "        \"type\": \"approximate\"\n",
      "      }\n",
      "    }\n",
      "  ],\n",
      "  \"top_p\": 1.0,\n",
      "  \"background\": false,\n",
      "  \"conversation\": null,\n",
      "  \"max_output_tokens\": null,\n",
      "  \"max_tool_calls\": null,\n",
      "  \"previous_response_id\": null,\n",
      "  \"prompt\": null,\n",
      "  \"prompt_cache_key\": null,\n",
      "  \"reasoning\": {\n",
      "    \"effort\": null,\n",
      "    \"generate_summary\": null,\n",
      "    \"summary\": null\n",
      "  },\n",
      "  \"safety_identifier\": null,\n",
      "  \"service_tier\": \"default\",\n",
      "  \"status\": \"completed\",\n",
      "  \"text\": {\n",
      "    \"format\": {\n",
      "      \"type\": \"text\"\n",
      "    },\n",
      "    \"verbosity\": \"medium\"\n",
      "  },\n",
      "  \"top_logprobs\": 0,\n",
      "  \"truncation\": \"disabled\",\n",
      "  \"usage\": {\n",
      "    \"input_tokens\": 454,\n",
      "    \"input_tokens_details\": {\n",
      "      \"cached_tokens\": 0\n",
      "    },\n",
      "    \"output_tokens\": 41,\n",
      "    \"output_tokens_details\": {\n",
      "      \"reasoning_tokens\": 0\n",
      "    },\n",
      "    \"total_tokens\": 495\n",
      "  },\n",
      "  \"user\": null,\n",
      "  \"store\": true\n",
      "}\n"
     ]
    }
   ],
   "source": [
    "\n",
    "print(json.dumps(response.model_dump(), indent=2))"
   ]
  },
  {
   "cell_type": "code",
   "execution_count": 8,
   "id": "91e79b48",
   "metadata": {},
   "outputs": [
    {
     "data": {
      "text/plain": [
       "'Could you provide a bit more context about \"Nomia\"? For example, what industry are they in, or what products or services do they offer? Any additional information would help narrow it down!'"
      ]
     },
     "execution_count": 8,
     "metadata": {},
     "output_type": "execute_result"
    }
   ],
   "source": [
    "response.output[0].content[0].text"
   ]
  },
  {
   "cell_type": "code",
   "execution_count": 9,
   "id": "75d5e853",
   "metadata": {},
   "outputs": [],
   "source": [
    "def ask_chatgpt(user_text: str) -> str:\n",
    "\n",
    "    response = client.responses.create(\n",
    "        model=\"gpt-4o-mini\",\n",
    "        input=\"user_text\",\n",
    "        instructions=system_prompt,\n",
    "        tools=[{\"type\": \"web_search\"}]\n",
    "    )\n",
    "    return response.output[0].content[0].text\n",
    "\n",
    "\n"
   ]
  },
  {
   "cell_type": "code",
   "execution_count": null,
   "id": "d884e43d",
   "metadata": {},
   "outputs": [],
   "source": [
    "while True:\n",
    "    try:\n",
    "        msg = input(\"you: \").strip()\n",
    "        if not msg: \n",
    "            continue\n",
    "        print(\"assistant:\", ask_chatgpt(msg))\n",
    "    except (EOFError, KeyboardInterrupt):\n",
    "        print(\"\\nbye!\")\n",
    "        sys.exit(0)"
   ]
  }
 ],
 "metadata": {
  "kernelspec": {
   "display_name": ".venv",
   "language": "python",
   "name": "python3"
  },
  "language_info": {
   "codemirror_mode": {
    "name": "ipython",
    "version": 3
   },
   "file_extension": ".py",
   "mimetype": "text/x-python",
   "name": "python",
   "nbconvert_exporter": "python",
   "pygments_lexer": "ipython3",
   "version": "3.12.11"
  }
 },
 "nbformat": 4,
 "nbformat_minor": 5
}
